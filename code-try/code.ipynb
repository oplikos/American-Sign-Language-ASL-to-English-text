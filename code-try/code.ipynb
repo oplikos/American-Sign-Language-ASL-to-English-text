{
 "cells": [
  {
   "cell_type": "code",
   "execution_count": null,
   "id": "d0edad1b-fcd4-41e1-8e6f-6d4d23dfe451",
   "metadata": {},
   "outputs": [],
   "source": [
    "pip install -r requirments.txt"
   ]
  },
  {
   "cell_type": "code",
   "execution_count": null,
   "id": "363607b4-ebcc-4260-a1bb-3d927c6a922a",
   "metadata": {},
   "outputs": [],
   "source": [
    "from cnn import Model, DataGatherer\n",
    "from tensorflow.keras.models import Sequential\n",
    "from math import ceil\n",
    "import matplotlib.pyplot as plt\n",
    "\n",
    "training_dir = r'/datasets/home/15/415/sbouzikian/Alpha/asl_alphabet_train/'\n",
    "\n",
    "#loading the images from training directory\n",
    "data_gatherer = DataGatherer(training_dir)\n",
    "\n",
    "x_train, x_test, y_train, y_test = data_gatherer.load_images()\n",
    "\n",
    "\n",
    "batch_size = 64\n",
    "training_size = x_train.shape[0]\n",
    "test_size = x_test.shape[0]\n",
    "\n",
    "\n",
    "#computing steps and validation steps per epoch according to training\n",
    "#and testing size\n",
    "compute_steps_per_epoch = lambda x: int(ceil(1. * x/batch_size))\n",
    "steps_per_epoch = compute_steps_per_epoch(training_size)\n",
    "val_steps = compute_steps_per_epoch(test_size)\n",
    "\n",
    "\n",
    "#build the model\n",
    "classifier = Model(Sequential()).classifier\n",
    "classifier = Model.build_model(classifier)\n",
    "\n",
    "classifier.compile(optimizer='adam', loss='categorical_crossentropy', metrics=['accuracy'])\n",
    "\n",
    "#train the model\n",
    "history = classifier.fit(\n",
    "  x_train, y_train,\n",
    "  steps_per_epoch=steps_per_epoch,\n",
    "  epochs=5,\n",
    "  validation_data=(x_test, y_test),\n",
    "  validation_steps=val_steps)\n",
    "\n",
    "#plot accuracy graph\n",
    "plt.figure(figsize=(8,5))\n",
    "\n",
    "plt.plot(history.history['accuracy'], label='train_accuracy',)\n",
    "plt.plot(history.history['val_accuracy'], label='val_accuracy')\n",
    "plt.xlabel('epoch')\n",
    "plt.ylabel('accuracy')\n",
    "plt.legend()\n",
    "plt.title(\"classifier\")\n",
    "\n",
    "plt.show()\n",
    "path = r'/datasets/home/15/415/sbouzikian/'\n",
    "#run the below line to save the classifier\n",
    "Model.save(path, classifier)\n"
   ]
  }
 ],
 "metadata": {
  "kernelspec": {
   "display_name": "Python 3",
   "language": "python",
   "name": "python3"
  },
  "language_info": {
   "codemirror_mode": {
    "name": "ipython",
    "version": 3
   },
   "file_extension": ".py",
   "mimetype": "text/x-python",
   "name": "python",
   "nbconvert_exporter": "python",
   "pygments_lexer": "ipython3",
   "version": "3.9.13"
  }
 },
 "nbformat": 4,
 "nbformat_minor": 5
}
